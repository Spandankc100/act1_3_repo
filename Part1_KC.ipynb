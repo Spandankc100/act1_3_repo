{
  "nbformat": 4,
  "nbformat_minor": 0,
  "metadata": {
    "colab": {
      "provenance": []
    },
    "kernelspec": {
      "name": "python3",
      "display_name": "Python 3"
    },
    "language_info": {
      "name": "python"
    }
  },
  "cells": [
    {
      "cell_type": "code",
      "execution_count": 1,
      "metadata": {
        "id": "nOAYTuMnCBu9"
      },
      "outputs": [],
      "source": [
        "# Step 1: Define the \"empty\" function\n",
        "triangle_area = lambda b, h: ..."
      ]
    },
    {
      "cell_type": "code",
      "source": [
        "# Step 2: Define test cases\n",
        "def test_triangle_area():\n",
        "    # Add test cases\n",
        "    assert triangle_area(0, 10) == 0, \"Failed: Base 0\"\n",
        "    assert triangle_area(10, 0) == 0, \"Failed: Height 0\"\n",
        "    assert triangle_area(3, 4) == 6, \"Failed: Standard case\"\n",
        "    assert triangle_area(5, 7) == 17.5, \"Failed: Another standard case\"\n",
        "    assert triangle_area(1, 1) == 0.5, \"Failed: Small case\"\n",
        "    print(\"All test cases passed!\")"
      ],
      "metadata": {
        "id": "qjDTep7_ChY4"
      },
      "execution_count": 2,
      "outputs": []
    },
    {
      "cell_type": "code",
      "source": [
        "# Step 3: Verify the empty function fails\n",
        "try:\n",
        "    test_triangle_area()\n",
        "except Exception as e:\n",
        "    print(f\"Tests failed as expected: {e}\")\n"
      ],
      "metadata": {
        "colab": {
          "base_uri": "https://localhost:8080/"
        },
        "id": "NPZQua6HCo1x",
        "outputId": "7a154e4b-08ac-4412-fa8e-1adfc9587738"
      },
      "execution_count": 3,
      "outputs": [
        {
          "output_type": "stream",
          "name": "stdout",
          "text": [
            "Tests failed as expected: Failed: Base 0\n"
          ]
        }
      ]
    },
    {
      "cell_type": "code",
      "source": [
        "# Step 4: Implement the correct lambda function\n",
        "triangle_area = lambda b, h: 0.5 * b * h"
      ],
      "metadata": {
        "id": "wVkVeBJRC9BX"
      },
      "execution_count": 4,
      "outputs": []
    },
    {
      "cell_type": "code",
      "source": [
        "# Re-run the tests\n",
        "test_triangle_area()"
      ],
      "metadata": {
        "colab": {
          "base_uri": "https://localhost:8080/"
        },
        "id": "oQwLSmqqC--z",
        "outputId": "a163d0c4-a1a3-4b37-87b0-18f881925e4d"
      },
      "execution_count": 5,
      "outputs": [
        {
          "output_type": "stream",
          "name": "stdout",
          "text": [
            "All test cases passed!\n"
          ]
        }
      ]
    },
    {
      "cell_type": "code",
      "source": [
        "# Step 5: Convert to a def function\n",
        "def triangle_area(b, h):\n",
        "    \"\"\"\n",
        "    Calculate the area of a right triangle.\n",
        "\n",
        "    Parameters:\n",
        "    b (float): The base of the triangle.\n",
        "    h (float): The height of the triangle.\n",
        "\n",
        "    Returns:\n",
        "    float: The area of the triangle.\n",
        "    \"\"\"\n",
        "    return 0.5 * b * h"
      ],
      "metadata": {
        "id": "s0C_zuosDaa6"
      },
      "execution_count": 6,
      "outputs": []
    },
    {
      "cell_type": "code",
      "source": [
        "# Step 6: Test the def function and verify docstring\n",
        "test_triangle_area()\n",
        "help(triangle_area)"
      ],
      "metadata": {
        "colab": {
          "base_uri": "https://localhost:8080/"
        },
        "id": "Gi5dAfx9DbyG",
        "outputId": "6ad77ed8-5c7d-4165-fe33-7799003f5764"
      },
      "execution_count": 7,
      "outputs": [
        {
          "output_type": "stream",
          "name": "stdout",
          "text": [
            "All test cases passed!\n",
            "Help on function triangle_area in module __main__:\n",
            "\n",
            "triangle_area(b, h)\n",
            "    Calculate the area of a right triangle.\n",
            "    \n",
            "    Parameters:\n",
            "    b (float): The base of the triangle.\n",
            "    h (float): The height of the triangle.\n",
            "    \n",
            "    Returns:\n",
            "    float: The area of the triangle.\n",
            "\n"
          ]
        }
      ]
    }
  ]
}